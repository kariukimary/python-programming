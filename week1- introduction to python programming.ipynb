{
 "cells": [
  {
   "cell_type": "markdown",
   "id": "c7cfc878",
   "metadata": {},
   "source": [
    "# chapter 1 exercise"
   ]
  },
  {
   "cell_type": "markdown",
   "id": "8824e409",
   "metadata": {},
   "source": [
    "# question 1\n"
   ]
  },
  {
   "cell_type": "code",
   "execution_count": null,
   "id": "5cbcffad",
   "metadata": {},
   "outputs": [],
   "source": [
    "1.what is the function of the secondary memory in a computer\n",
    " answer:\n",
    "The function of the seondary memory is to store information for  long term even beyound \n",
    "the power cycle,examples of secondary memory is disk  drive and flash memory"
   ]
  },
  {
   "cell_type": "markdown",
   "id": "02cce5d1",
   "metadata": {},
   "source": [
    "# Question 2"
   ]
  },
  {
   "cell_type": "code",
   "execution_count": null,
   "id": "bc8c9f06",
   "metadata": {},
   "outputs": [],
   "source": [
    "2.what is a program\n",
    "  answer:\n",
    "a program at its most basic is a sequence of Python statements that have been crafted to do something. \n",
    "or a set of instructions that specifies a computation"
   ]
  },
  {
   "cell_type": "markdown",
   "id": "9d1cebcc",
   "metadata": {},
   "source": [
    "# question 3"
   ]
  },
  {
   "cell_type": "code",
   "execution_count": null,
   "id": "b29d9cda",
   "metadata": {},
   "outputs": [],
   "source": [
    "3.What is the difference between a compiler and an inter-preter?\n",
    " answer:\n",
    "a complier needs to be handed the entire program in a file where it runs a process to translate the high-level\n",
    "source code into machine language and  then the it puts the resulting machine language into a file for\n",
    "later execution."
   ]
  },
  {
   "cell_type": "markdown",
   "id": "a19d626b",
   "metadata": {},
   "source": [
    "# question 4"
   ]
  },
  {
   "cell_type": "code",
   "execution_count": null,
   "id": "d8f47686",
   "metadata": {},
   "outputs": [],
   "source": [
    "4. Which of the following contains “machine code”?\n",
    " answer:\n",
    "The Python interpreter"
   ]
  },
  {
   "cell_type": "markdown",
   "id": "7077ceff",
   "metadata": {},
   "source": [
    "# question 5"
   ]
  },
  {
   "cell_type": "code",
   "execution_count": null,
   "id": "a954a7e8",
   "metadata": {},
   "outputs": [],
   "source": [
    "5.  What is wrong with the following code:\n",
    ">>> primt 'Hello world!'\n",
    "File \"<stdin>\", line 1\n",
    "primt 'Hello world!'\n",
    "^\n",
    "SyntaxError: invalid syntax\n",
    ">>\n",
    "answer:\n",
    "the code has some violated some grammatical rules in python,where the reserved word print is mispelt and\n",
    "there are no parantesis to enclose the (\"hello world\")"
   ]
  },
  {
   "cell_type": "markdown",
   "id": "575d8bd2",
   "metadata": {},
   "source": [
    "# question 6"
   ]
  },
  {
   "cell_type": "code",
   "execution_count": null,
   "id": "57d13c76",
   "metadata": {},
   "outputs": [],
   "source": [
    "6.Where in the computer is a variable such as “x” stored after the following Python line finishes?\n",
    "x = 123\n",
    "answer:\n",
    "    at the main memory"
   ]
  },
  {
   "cell_type": "markdown",
   "id": "63b39f98",
   "metadata": {},
   "source": [
    "# question 7"
   ]
  },
  {
   "cell_type": "code",
   "execution_count": 4,
   "id": "03a634e1",
   "metadata": {},
   "outputs": [
    {
     "name": "stdout",
     "output_type": "stream",
     "text": [
      "42\n"
     ]
    }
   ],
   "source": [
    "7.: What will the following program print out:\n",
    "x = 43\n",
    "x = x - 1\n",
    "print(x)    "
   ]
  },
  {
   "cell_type": "markdown",
   "id": "a45ff174",
   "metadata": {},
   "source": [
    "# question 8"
   ]
  },
  {
   "cell_type": "code",
   "execution_count": null,
   "id": "250d4618",
   "metadata": {},
   "outputs": [],
   "source": [
    "Explain each of the following using an example of a hu-\n",
    "man capability: (1) Central processing unit, (2) Main Memory, (3)\n",
    "Secondary Memory, (4) Input Device, and (5) Output Device. For ex-\n",
    "ample, “What is the human equivalent to a Central Processing Unit”?\n",
    "\n",
    "answer: \n",
    "    1.central processing unit\n",
    "it is part of a computer that runs  the software that we write it is equivalent to\n",
    "human heart that controls the functionality of the body\n",
    " 2.main memory\n",
    "    it is used to store the information that the computer needs in a hurry it is equivalent to human brain\n",
    " 3.secondary memory \n",
    "Store information for the long term, even beyond a power cycle\n",
    " 4.input and output devices\n",
    "    thse are the devices that allow us  interact with the computer eg. screen,keyboard it is equivalents to  human arms "
   ]
  },
  {
   "cell_type": "markdown",
   "id": "64ead9ba",
   "metadata": {},
   "source": [
    "# question 9"
   ]
  },
  {
   "cell_type": "code",
   "execution_count": null,
   "id": "ec71194d",
   "metadata": {},
   "outputs": [],
   "source": [
    " How do you fix a “Syntax Error”?\n",
    "answer:\n",
    "    i would examine my code ,read it back again  to check where i have violated grammatical python rules\n",
    "    and look whether the code means what i wanted to do"
   ]
  }
 ],
 "metadata": {
  "kernelspec": {
   "display_name": "Python 3 (ipykernel)",
   "language": "python",
   "name": "python3"
  },
  "language_info": {
   "codemirror_mode": {
    "name": "ipython",
    "version": 3
   },
   "file_extension": ".py",
   "mimetype": "text/x-python",
   "name": "python",
   "nbconvert_exporter": "python",
   "pygments_lexer": "ipython3",
   "version": "3.9.7"
  }
 },
 "nbformat": 4,
 "nbformat_minor": 5
}
